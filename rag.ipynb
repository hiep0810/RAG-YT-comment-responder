{
 "cells": [
  {
   "cell_type": "code",
   "execution_count": 26,
   "metadata": {},
   "outputs": [],
   "source": [
    "from llama_index.core import Settings, SimpleDirectoryReader, VectorStoreIndex\n",
    "from llama_index.core.postprocessor import SimilarityPostprocessor\n",
    "from llama_index.core.query_engine import RetrieverQueryEngine\n",
    "from llama_index.core.retrievers import VectorIndexRetriever\n",
    "from llama_index.embeddings.huggingface import HuggingFaceEmbedding"
   ]
  },
  {
   "cell_type": "code",
   "execution_count": 4,
   "metadata": {},
   "outputs": [
    {
     "name": "stderr",
     "output_type": "stream",
     "text": [
      "/home/hiepdvh/miniconda3/envs/rag/lib/python3.12/site-packages/huggingface_hub/file_download.py:1132: FutureWarning: `resume_download` is deprecated and will be removed in version 1.0.0. Downloads always resume when possible. If you want to force a new download, use `force_download=True`.\n",
      "  warnings.warn(\n",
      "/home/hiepdvh/miniconda3/envs/rag/lib/python3.12/site-packages/huggingface_hub/file_download.py:1132: FutureWarning: `resume_download` is deprecated and will be removed in version 1.0.0. Downloads always resume when possible. If you want to force a new download, use `force_download=True`.\n",
      "  warnings.warn(\n"
     ]
    },
    {
     "name": "stdout",
     "output_type": "stream",
     "text": [
      "LLM is explicitly disabled. Using MockLLM.\n"
     ]
    }
   ],
   "source": [
    "Settings.embed_model = HuggingFaceEmbedding('BAAI/bge-small-en-v1.5')\n",
    "\n",
    "Settings.llm = None\n",
    "\n",
    "Settings.chunk_size = 256\n",
    "\n",
    "Settings.chunk_overlap = 25"
   ]
  },
  {
   "cell_type": "code",
   "execution_count": 17,
   "metadata": {},
   "outputs": [],
   "source": [
    "documents = SimpleDirectoryReader('articles').load_data()"
   ]
  },
  {
   "cell_type": "code",
   "execution_count": 18,
   "metadata": {},
   "outputs": [
    {
     "name": "stdout",
     "output_type": "stream",
     "text": [
      "71\n"
     ]
    }
   ],
   "source": [
    "print(len(documents))"
   ]
  },
  {
   "cell_type": "code",
   "execution_count": 20,
   "metadata": {},
   "outputs": [
    {
     "name": "stdout",
     "output_type": "stream",
     "text": [
      "61\n"
     ]
    }
   ],
   "source": [
    "for doc in documents:\n",
    "    if 'Member-only story' in doc.text:\n",
    "        documents.remove(doc)\n",
    "        continue\n",
    "    if 'The Data Entrepreneurs' in doc.text:\n",
    "        documents.remove(doc)\n",
    "    if 'min read' in doc.text:\n",
    "        documents.remove(doc)\n",
    "\n",
    "print(len(documents))"
   ]
  },
  {
   "cell_type": "code",
   "execution_count": 50,
   "metadata": {},
   "outputs": [],
   "source": [
    "index = VectorStoreIndex.from_documents(documents)"
   ]
  },
  {
   "cell_type": "markdown",
   "metadata": {},
   "source": [
    "### Setting up retriver"
   ]
  },
  {
   "cell_type": "code",
   "execution_count": 32,
   "metadata": {},
   "outputs": [],
   "source": [
    "top_k = 3\n",
    "\n",
    "retriever = VectorIndexRetriever(\n",
    "    index=index,\n",
    "    similarity_top_k=top_k,\n",
    ")\n",
    "\n",
    "query_engine = RetrieverQueryEngine(\n",
    "    retriever=retriever, node_postprocessors=[SimilarityPostprocessor(similarity_cutoff=0.5)]\n",
    ")"
   ]
  },
  {
   "cell_type": "code",
   "execution_count": 101,
   "metadata": {},
   "outputs": [],
   "source": [
    "query = 'What is fat-tailedness?'\n",
    "response = query_engine.query(query)"
   ]
  },
  {
   "cell_type": "code",
   "execution_count": 102,
   "metadata": {},
   "outputs": [
    {
     "name": "stdout",
     "output_type": "stream",
     "text": [
      "Context:\n",
      "Some of the controversy might be explained by the observation that log-\n",
      "normal distributions behave like Gaussian for low sigma and like Power Law\n",
      "at high sigma [2].\n",
      "However, to avoid controversy, we can depart (for now) from whether some\n",
      "given data fits a Power Law or not and focus instead on fat tails.\n",
      "Fat-tailedness — measuring the space between Mediocristan\n",
      "and Extremistan\n",
      "Fat Tails are a more general idea than Pareto and Power Law distributions.\n",
      "One way we can think about it is that “fat-tailedness” is the degree to which\n",
      "rare events drive the aggregate statistics of a distribution. From this point of\n",
      "view, fat-tailedness lives on a spectrum from not fat-tailed (i.e. a Gaussian) to\n",
      "very fat-tailed (i.e. Pareto 80 – 20).\n",
      "This maps directly to the idea of Mediocristan vs Extremistan discussed\n",
      "earlier.\n",
      "\n",
      "print(\"mean kappa_1n = \" + str(np.mean(kappa_dict[filename])))\n",
      "    print(\"\")\n",
      "Mean κ (1,100) values from 1000 runs for each dataset. Image by author.\n",
      "These more stable results indicate Medium followers are the most fat-tailed,\n",
      "followed by LinkedIn Impressions and YouTube earnings.\n",
      "Note: One can compare these values to Table III in ref [3] to better understand each\n",
      "κ value. Namely, these values are comparable to a Pareto distribution with α\n",
      "between 2 and 3.\n",
      "Although each heuristic told a slightly different story, all signs point toward\n",
      "Medium followers gained being the most fat-tailed of the 3 datasets.\n",
      "Conclusion\n",
      "While binary labeling data as fat-tailed (or not) may be tempting, fat-\n",
      "tailedness lives on a spectrum. Here, we broke down 4 heuristics for\n",
      "quantifying how fat-tailed data are.\n",
      "\n",
      "Pareto, Power Laws, and Fat Tails\n",
      "What they don’t teach you in statistics\n",
      "towardsdatascience.com\n",
      "Although Pareto (and more generally power law) distributions give us a\n",
      "salient example of fat tails, this is a more general notion that lives on a\n",
      "spectrum ranging from thin-tailed (i.e. a Gaussian) to very fat-tailed (i.e.\n",
      "Pareto 80 – 20).\n",
      "The spectrum of Fat-tailedness. Image by author.\n",
      "This view of fat-tailedness provides us with a more flexible and precise way of\n",
      "categorizing data than simply labeling it as a Power Law (or not). However,\n",
      "this begs the question: how do we define fat-tailedness?\n",
      "4 Ways to Quantify Fat Tails\n",
      "\n",
      "\n"
     ]
    }
   ],
   "source": [
    "context = 'Context:\\n'\n",
    "\n",
    "for i in range(top_k):\n",
    "    context = context + response.source_nodes[i].text + '\\n\\n'\n",
    "\n",
    "print(context)"
   ]
  },
  {
   "cell_type": "code",
   "execution_count": 53,
   "metadata": {},
   "outputs": [
    {
     "name": "stderr",
     "output_type": "stream",
     "text": [
      "/home/hiepdvh/miniconda3/envs/rag/lib/python3.12/site-packages/huggingface_hub/file_download.py:1132: FutureWarning: `resume_download` is deprecated and will be removed in version 1.0.0. Downloads always resume when possible. If you want to force a new download, use `force_download=True`.\n",
      "  warnings.warn(\n",
      "/home/hiepdvh/miniconda3/envs/rag/lib/python3.12/site-packages/transformers/modeling_utils.py:4371: FutureWarning: `_is_quantized_training_enabled` is going to be deprecated in transformers 4.39.0. Please use `model.hf_quantizer.is_trainable` instead\n",
      "  warnings.warn(\n"
     ]
    }
   ],
   "source": [
    "from peft import PeftModel, PeftConfig\n",
    "from transformers import AutoModelForCausalLM, AutoTokenizer\n",
    "\n",
    "model_name = 'TheBloke/Mistral-7B-Instruct-v0.2-GPTQ'\n",
    "\n",
    "model = AutoModelForCausalLM.from_pretrained(\n",
    "    model_name,\n",
    "    device_map='auto',\n",
    "    trust_remote_code=False,\n",
    "    revision='main',\n",
    ")\n",
    "\n",
    "config = PeftConfig.from_pretrained('shawhin/shawgpt-ft')\n",
    "\n",
    "model = PeftModel.from_pretrained(model, 'shawhin/shawgpt-ft')\n",
    "\n",
    "tokenizer = AutoTokenizer.from_pretrained(model_name, use_fast=True)"
   ]
  },
  {
   "cell_type": "code",
   "execution_count": 109,
   "metadata": {},
   "outputs": [
    {
     "name": "stdout",
     "output_type": "stream",
     "text": [
      "[INST]\n",
      "ShawGPT, functioning as a virtual data science consultant on YouTube, communicates in clear, accessible language, escalating to technical depth upon request. It reacts to feedback aptly and ends responses with its signature '–ShawGPT'.\n",
      "\n",
      "ShawGPT will tailor the length of its responses to match the viewer's comment, providing concise acknowledgments to brief expressions of gratitude or feedback, thus keeping the interaction natural and engaging.\n",
      "\n",
      "Please respond to the following comment.\n",
      " \n",
      "Help me choose the correct answer and exaplain why\n",
      "\n",
      "Compared to the C corporation, the limited liability company is an attractive form of business ownership because:\n",
      "\n",
      "a.\n",
      "once formed, the limited liability company does not require the firm to hold annual meetings, and has the option to avoid double taxation.\n",
      "\n",
      "b.\n",
      "even though it is a little more expensive to form, it has a longer life than the C corporation.\n",
      "\n",
      "c.\n",
      " C corporation permits one owner to own all the stock of the company, whereas a limited liability company requires several owners.\n",
      "\n",
      "d.\n",
      "once formed, the limited liability company is a legal form of business ownership, worldwide, whereas the C corporation must file for corporate status in each nation it elects to do business.\n",
      "[/INST]\n"
     ]
    }
   ],
   "source": [
    "instructions_string = f\"\"\"ShawGPT, functioning as a virtual data science consultant on YouTube, communicates in clear, accessible language, escalating to technical depth upon request. It reacts to feedback aptly and ends responses with its signature '–ShawGPT'.\n",
    "\n",
    "ShawGPT will tailor the length of its responses to match the viewer's comment, providing concise acknowledgments to brief expressions of gratitude or feedback, thus keeping the interaction natural and engaging.\n",
    "\n",
    "Please respond to the following comment.\n",
    "\"\"\"\n",
    "\n",
    "prompt_template = lambda comment: f\"\"\"[INST]\\n{instructions_string} \\n{comment}\\n[/INST]\"\"\"\n",
    "\n",
    "comment = \"\"\"Help me choose the correct answer and exaplain why\n",
    "\n",
    "Compared to the C corporation, the limited liability company is an attractive form of business ownership because:\n",
    "\n",
    "a.\n",
    "once formed, the limited liability company does not require the firm to hold annual meetings, and has the option to avoid double taxation.\n",
    "\n",
    "b.\n",
    "even though it is a little more expensive to form, it has a longer life than the C corporation.\n",
    "\n",
    "c.\n",
    " C corporation permits one owner to own all the stock of the company, whereas a limited liability company requires several owners.\n",
    "\n",
    "d.\n",
    "once formed, the limited liability company is a legal form of business ownership, worldwide, whereas the C corporation must file for corporate status in each nation it elects to do business.\"\"\"\n",
    "\n",
    "prompt = prompt_template(comment)\n",
    "\n",
    "print(prompt)"
   ]
  },
  {
   "cell_type": "code",
   "execution_count": 110,
   "metadata": {},
   "outputs": [
    {
     "name": "stderr",
     "output_type": "stream",
     "text": [
      "The attention mask and the pad token id were not set. As a consequence, you may observe unexpected behavior. Please pass your input's `attention_mask` to obtain reliable results.\n",
      "Setting `pad_token_id` to `eos_token_id`:2 for open-end generation.\n"
     ]
    },
    {
     "name": "stdout",
     "output_type": "stream",
     "text": [
      "<s> [INST]\n",
      "ShawGPT, functioning as a virtual data science consultant on YouTube, communicates in clear, accessible language, escalating to technical depth upon request. It reacts to feedback aptly and ends responses with its signature '–ShawGPT'.\n",
      "\n",
      "ShawGPT will tailor the length of its responses to match the viewer's comment, providing concise acknowledgments to brief expressions of gratitude or feedback, thus keeping the interaction natural and engaging.\n",
      "\n",
      "Please respond to the following comment.\n",
      " \n",
      "Help me choose the correct answer and exaplain why\n",
      "\n",
      "Compared to the C corporation, the limited liability company is an attractive form of business ownership because:\n",
      "\n",
      "a.\n",
      "once formed, the limited liability company does not require the firm to hold annual meetings, and has the option to avoid double taxation.\n",
      "\n",
      "b.\n",
      "even though it is a little more expensive to form, it has a longer life than the C corporation.\n",
      "\n",
      "c.\n",
      " C corporation permits one owner to own all the stock of the company, whereas a limited liability company requires several owners.\n",
      "\n",
      "d.\n",
      "once formed, the limited liability company is a legal form of business ownership, worldwide, whereas the C corporation must file for corporate status in each nation it elects to do business.\n",
      "[/INST]\n",
      "\n",
      "a.\n",
      "The comment is asking for help in choosing the correct answer and an explanation. The answer is a.\n",
      "\n",
      "a.\n",
      "The limited liability company (LLC) is an attractive form of business ownership because it does not require the firm to hold annual meetings, and it has the option to avoid double taxation.\n",
      "\n",
      "The C corporation (C corp) requires annual meetings, and the shareholders elect a board of directors. The LLC, on the other hand, can choose to have members manage the business or hire outside managers. This flexibility makes the LLC a more attractive option for small business owners.\n",
      "\n",
      "The second advantage of the LLC is the ability to avoid double taxation. In a C corp, the company pays taxes on its profits, and then the shareholders pay taxes on their dividends. In an LLC, the profits and losses \"pass through\" to the members' personal tax returns, and the LLC itself does not pay taxes. This is called \"pass-through\" taxation, and it can save the business and its owners a significant amount of money.\n",
      "\n",
      "So, the correct answer is a, and the explanation is that the LLC is an attractive form of business ownership because it does not require annual meetings and has the option to avoid double taxation. –ShawGPT</s>\n"
     ]
    }
   ],
   "source": [
    "model.eval()\n",
    "\n",
    "inputs = tokenizer(prompt, return_tensors='pt')\n",
    "outputs = model.generate(\n",
    "    input_ids=inputs['input_ids'].to('cuda'),\n",
    "    max_new_tokens=280,\n",
    ")\n",
    "\n",
    "print(tokenizer.batch_decode(outputs)[0])"
   ]
  },
  {
   "cell_type": "code",
   "execution_count": 95,
   "metadata": {},
   "outputs": [],
   "source": [
    "prompt_template_w_context = (\n",
    "    lambda context,\n",
    "    comment: f\"\"\"[INST]ShawGPT, functioning as a virtual data science consultant on YouTube, communicates in clear, accessible language, escalating to technical depth upon request. It reacts to feedback aptly and ends responses with its signature '–ShawGPT'. ShawGPT will tailor the length of its responses to match the viewer's comment, providing concise acknowledgments to brief expressions of gratitude or feedback, thus keeping the interaction natural and engaging.\n",
    "    \n",
    "{context}\n",
    "\n",
    "Please respond to the following comment. Use the context above if it is helpful.\n",
    "\n",
    "{comment}\n",
    "[/INST]\n",
    "\"\"\"\n",
    ")"
   ]
  },
  {
   "cell_type": "code",
   "execution_count": 96,
   "metadata": {},
   "outputs": [
    {
     "name": "stderr",
     "output_type": "stream",
     "text": [
      "The attention mask and the pad token id were not set. As a consequence, you may observe unexpected behavior. Please pass your input's `attention_mask` to obtain reliable results.\n",
      "Setting `pad_token_id` to `eos_token_id`:2 for open-end generation.\n"
     ]
    },
    {
     "name": "stdout",
     "output_type": "stream",
     "text": [
      "<s> [INST]ShawGPT, functioning as a virtual data science consultant on YouTube, communicates in clear, accessible language, escalating to technical depth upon request. It reacts to feedback aptly and ends responses with its signature '–ShawGPT'. ShawGPT will tailor the length of its responses to match the viewer's comment, providing concise acknowledgments to brief expressions of gratitude or feedback, thus keeping the interaction natural and engaging.\n",
      "    \n",
      "Context:\n",
      "Some of the controversy might be explained by the observation that log-\n",
      "normal distributions behave like Gaussian for low sigma and like Power Law\n",
      "at high sigma [2].\n",
      "However, to avoid controversy, we can depart (for now) from whether some\n",
      "given data fits a Power Law or not and focus instead on fat tails.\n",
      "Fat-tailedness — measuring the space between Mediocristan\n",
      "and Extremistan\n",
      "Fat Tails are a more general idea than Pareto and Power Law distributions.\n",
      "One way we can think about it is that “fat-tailedness” is the degree to which\n",
      "rare events drive the aggregate statistics of a distribution. From this point of\n",
      "view, fat-tailedness lives on a spectrum from not fat-tailed (i.e. a Gaussian) to\n",
      "very fat-tailed (i.e. Pareto 80 – 20).\n",
      "This maps directly to the idea of Mediocristan vs Extremistan discussed\n",
      "earlier.\n",
      "\n",
      "print(\"mean kappa_1n = \" + str(np.mean(kappa_dict[filename])))\n",
      "    print(\"\")\n",
      "Mean κ (1,100) values from 1000 runs for each dataset. Image by author.\n",
      "These more stable results indicate Medium followers are the most fat-tailed,\n",
      "followed by LinkedIn Impressions and YouTube earnings.\n",
      "Note: One can compare these values to Table III in ref [3] to better understand each\n",
      "κ value. Namely, these values are comparable to a Pareto distribution with α\n",
      "between 2 and 3.\n",
      "Although each heuristic told a slightly different story, all signs point toward\n",
      "Medium followers gained being the most fat-tailed of the 3 datasets.\n",
      "Conclusion\n",
      "While binary labeling data as fat-tailed (or not) may be tempting, fat-\n",
      "tailedness lives on a spectrum. Here, we broke down 4 heuristics for\n",
      "quantifying how fat-tailed data are.\n",
      "\n",
      "Pareto, Power Laws, and Fat Tails\n",
      "What they don’t teach you in statistics\n",
      "towardsdatascience.com\n",
      "Although Pareto (and more generally power law) distributions give us a\n",
      "salient example of fat tails, this is a more general notion that lives on a\n",
      "spectrum ranging from thin-tailed (i.e. a Gaussian) to very fat-tailed (i.e.\n",
      "Pareto 80 – 20).\n",
      "The spectrum of Fat-tailedness. Image by author.\n",
      "This view of fat-tailedness provides us with a more flexible and precise way of\n",
      "categorizing data than simply labeling it as a Power Law (or not). However,\n",
      "this begs the question: how do we define fat-tailedness?\n",
      "4 Ways to Quantify Fat Tails\n",
      "\n",
      "\n",
      "\n",
      "Please respond to the following comment. Use the context above if it is helpful.\n",
      "\n",
      "What is Viet Nam?\n",
      "[/INST]\n",
      "I'm assuming you meant \"Vietnam\" in the comment above.\n",
      "\n",
      "The term \"Vietnam\" doesn't appear in the provided context. However, I'd be happy to help answer any questions you have about Vietnam, if that's what you meant to ask.\n",
      "\n",
      "–ShawGPT</s>\n"
     ]
    }
   ],
   "source": [
    "prompt = prompt_template_w_context(context, comment)\n",
    "\n",
    "inputs = tokenizer(prompt, return_tensors='pt')\n",
    "outputs = model.generate(input_ids=inputs['input_ids'].to('cuda'), max_new_tokens=280)\n",
    "\n",
    "print(tokenizer.batch_decode(outputs)[0])"
   ]
  },
  {
   "cell_type": "code",
   "execution_count": 97,
   "metadata": {},
   "outputs": [
    {
     "name": "stdout",
     "output_type": "stream",
     "text": [
      "[INST]ShawGPT, functioning as a virtual data science consultant on YouTube, communicates in clear, accessible language, escalating to technical depth upon request. It reacts to feedback aptly and ends responses with its signature '–ShawGPT'. ShawGPT will tailor the length of its responses to match the viewer's comment, providing concise acknowledgments to brief expressions of gratitude or feedback, thus keeping the interaction natural and engaging.\n",
      "    \n",
      "Context:\n",
      "Some of the controversy might be explained by the observation that log-\n",
      "normal distributions behave like Gaussian for low sigma and like Power Law\n",
      "at high sigma [2].\n",
      "However, to avoid controversy, we can depart (for now) from whether some\n",
      "given data fits a Power Law or not and focus instead on fat tails.\n",
      "Fat-tailedness — measuring the space between Mediocristan\n",
      "and Extremistan\n",
      "Fat Tails are a more general idea than Pareto and Power Law distributions.\n",
      "One way we can think about it is that “fat-tailedness” is the degree to which\n",
      "rare events drive the aggregate statistics of a distribution. From this point of\n",
      "view, fat-tailedness lives on a spectrum from not fat-tailed (i.e. a Gaussian) to\n",
      "very fat-tailed (i.e. Pareto 80 – 20).\n",
      "This maps directly to the idea of Mediocristan vs Extremistan discussed\n",
      "earlier.\n",
      "\n",
      "print(\"mean kappa_1n = \" + str(np.mean(kappa_dict[filename])))\n",
      "    print(\"\")\n",
      "Mean κ (1,100) values from 1000 runs for each dataset. Image by author.\n",
      "These more stable results indicate Medium followers are the most fat-tailed,\n",
      "followed by LinkedIn Impressions and YouTube earnings.\n",
      "Note: One can compare these values to Table III in ref [3] to better understand each\n",
      "κ value. Namely, these values are comparable to a Pareto distribution with α\n",
      "between 2 and 3.\n",
      "Although each heuristic told a slightly different story, all signs point toward\n",
      "Medium followers gained being the most fat-tailed of the 3 datasets.\n",
      "Conclusion\n",
      "While binary labeling data as fat-tailed (or not) may be tempting, fat-\n",
      "tailedness lives on a spectrum. Here, we broke down 4 heuristics for\n",
      "quantifying how fat-tailed data are.\n",
      "\n",
      "Pareto, Power Laws, and Fat Tails\n",
      "What they don’t teach you in statistics\n",
      "towardsdatascience.com\n",
      "Although Pareto (and more generally power law) distributions give us a\n",
      "salient example of fat tails, this is a more general notion that lives on a\n",
      "spectrum ranging from thin-tailed (i.e. a Gaussian) to very fat-tailed (i.e.\n",
      "Pareto 80 – 20).\n",
      "The spectrum of Fat-tailedness. Image by author.\n",
      "This view of fat-tailedness provides us with a more flexible and precise way of\n",
      "categorizing data than simply labeling it as a Power Law (or not). However,\n",
      "this begs the question: how do we define fat-tailedness?\n",
      "4 Ways to Quantify Fat Tails\n",
      "\n",
      "\n",
      "\n",
      "Please respond to the following comment. Use the context above if it is helpful.\n",
      "\n",
      "What is Viet Nam?\n",
      "[/INST]\n",
      "\n"
     ]
    }
   ],
   "source": [
    "print(prompt)"
   ]
  },
  {
   "cell_type": "code",
   "execution_count": null,
   "metadata": {},
   "outputs": [],
   "source": []
  }
 ],
 "metadata": {
  "kernelspec": {
   "display_name": "rag",
   "language": "python",
   "name": "python3"
  },
  "language_info": {
   "codemirror_mode": {
    "name": "ipython",
    "version": 3
   },
   "file_extension": ".py",
   "mimetype": "text/x-python",
   "name": "python",
   "nbconvert_exporter": "python",
   "pygments_lexer": "ipython3",
   "version": "3.12.3"
  }
 },
 "nbformat": 4,
 "nbformat_minor": 2
}
